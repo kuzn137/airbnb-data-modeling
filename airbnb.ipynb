{
 "cells": [
  {
   "cell_type": "markdown",
   "metadata": {},
   "source": [
    "# Airbnb Data Modeling"
   ]
  },
  {
   "cell_type": "markdown",
   "metadata": {},
   "source": [
    "Model predict airbnb day prices in Seattle using feature engineering, feature selection techniques  and light gradient boosting regression."
   ]
  },
  {
   "cell_type": "code",
   "execution_count": 43,
   "metadata": {},
   "outputs": [],
   "source": [
    "import pandas as pd\n",
    "import matplotlib.pyplot as plt\n",
    "import numpy as np\n",
    "import seaborn as sns\n",
    "import lightgbm as lgb\n",
    "from xgboost import XGBRegressor\n",
    "from lightgbm import LGBMModel\n",
    "from sklearn.model_selection import cross_val_score, train_test_split\n",
    "from sklearn.metrics import r2_score, mean_squared_error\n",
    "from sklearn.feature_extraction.text import CountVectorizer, TfidfVectorizer\n",
    "from sklearn.preprocessing import LabelBinarizer\n",
    "from sklearn.linear_model import SGDRegressor\n",
    "from sklearn import ensemble\n",
    "from sklearn.preprocessing import LabelEncoder\n",
    "import lightgbm as lgb\n",
    "from scipy.sparse import hstack\n",
    "MAX_FEAT_DESCP = 70"
   ]
  },
  {
   "cell_type": "code",
   "execution_count": 44,
   "metadata": {
    "scrolled": true
   },
   "outputs": [
    {
     "data": {
      "text/html": [
       "<div>\n",
       "<style scoped>\n",
       "    .dataframe tbody tr th:only-of-type {\n",
       "        vertical-align: middle;\n",
       "    }\n",
       "\n",
       "    .dataframe tbody tr th {\n",
       "        vertical-align: top;\n",
       "    }\n",
       "\n",
       "    .dataframe thead th {\n",
       "        text-align: right;\n",
       "    }\n",
       "</style>\n",
       "<table border=\"1\" class=\"dataframe\">\n",
       "  <thead>\n",
       "    <tr style=\"text-align: right;\">\n",
       "      <th></th>\n",
       "      <th>id</th>\n",
       "      <th>listing_url</th>\n",
       "      <th>scrape_id</th>\n",
       "      <th>last_scraped</th>\n",
       "      <th>name</th>\n",
       "      <th>summary</th>\n",
       "      <th>space</th>\n",
       "      <th>description</th>\n",
       "      <th>experiences_offered</th>\n",
       "      <th>neighborhood_overview</th>\n",
       "      <th>...</th>\n",
       "      <th>review_scores_value</th>\n",
       "      <th>requires_license</th>\n",
       "      <th>license</th>\n",
       "      <th>jurisdiction_names</th>\n",
       "      <th>instant_bookable</th>\n",
       "      <th>cancellation_policy</th>\n",
       "      <th>require_guest_profile_picture</th>\n",
       "      <th>require_guest_phone_verification</th>\n",
       "      <th>calculated_host_listings_count</th>\n",
       "      <th>reviews_per_month</th>\n",
       "    </tr>\n",
       "  </thead>\n",
       "  <tbody>\n",
       "    <tr>\n",
       "      <th>0</th>\n",
       "      <td>241032</td>\n",
       "      <td>https://www.airbnb.com/rooms/241032</td>\n",
       "      <td>2.016010e+13</td>\n",
       "      <td>1/4/2016</td>\n",
       "      <td>Stylish Queen Anne Apartment</td>\n",
       "      <td>NaN</td>\n",
       "      <td>Make your self at home in this charming one-be...</td>\n",
       "      <td>Make your self at home in this charming one-be...</td>\n",
       "      <td>none</td>\n",
       "      <td>NaN</td>\n",
       "      <td>...</td>\n",
       "      <td>10.0</td>\n",
       "      <td>f</td>\n",
       "      <td>NaN</td>\n",
       "      <td>WASHINGTON</td>\n",
       "      <td>f</td>\n",
       "      <td>moderate</td>\n",
       "      <td>f</td>\n",
       "      <td>f</td>\n",
       "      <td>2</td>\n",
       "      <td>4.07</td>\n",
       "    </tr>\n",
       "    <tr>\n",
       "      <th>1</th>\n",
       "      <td>953595</td>\n",
       "      <td>https://www.airbnb.com/rooms/953595</td>\n",
       "      <td>2.016010e+13</td>\n",
       "      <td>1/4/2016</td>\n",
       "      <td>Bright &amp; Airy Queen Anne Apartment</td>\n",
       "      <td>Chemically sensitive? We've removed the irrita...</td>\n",
       "      <td>Beautiful, hypoallergenic apartment in an extr...</td>\n",
       "      <td>Chemically sensitive? We've removed the irrita...</td>\n",
       "      <td>none</td>\n",
       "      <td>Queen Anne is a wonderful, truly functional vi...</td>\n",
       "      <td>...</td>\n",
       "      <td>10.0</td>\n",
       "      <td>f</td>\n",
       "      <td>NaN</td>\n",
       "      <td>WASHINGTON</td>\n",
       "      <td>f</td>\n",
       "      <td>strict</td>\n",
       "      <td>t</td>\n",
       "      <td>t</td>\n",
       "      <td>6</td>\n",
       "      <td>1.48</td>\n",
       "    </tr>\n",
       "    <tr>\n",
       "      <th>2</th>\n",
       "      <td>3308979</td>\n",
       "      <td>https://www.airbnb.com/rooms/3308979</td>\n",
       "      <td>2.016010e+13</td>\n",
       "      <td>1/4/2016</td>\n",
       "      <td>New Modern House-Amazing water view</td>\n",
       "      <td>New modern house built in 2013.  Spectacular s...</td>\n",
       "      <td>Our house is modern, light and fresh with a wa...</td>\n",
       "      <td>New modern house built in 2013.  Spectacular s...</td>\n",
       "      <td>none</td>\n",
       "      <td>Upper Queen Anne is a charming neighborhood fu...</td>\n",
       "      <td>...</td>\n",
       "      <td>10.0</td>\n",
       "      <td>f</td>\n",
       "      <td>NaN</td>\n",
       "      <td>WASHINGTON</td>\n",
       "      <td>f</td>\n",
       "      <td>strict</td>\n",
       "      <td>f</td>\n",
       "      <td>f</td>\n",
       "      <td>2</td>\n",
       "      <td>1.15</td>\n",
       "    </tr>\n",
       "    <tr>\n",
       "      <th>3</th>\n",
       "      <td>7421966</td>\n",
       "      <td>https://www.airbnb.com/rooms/7421966</td>\n",
       "      <td>2.016010e+13</td>\n",
       "      <td>1/4/2016</td>\n",
       "      <td>Queen Anne Chateau</td>\n",
       "      <td>A charming apartment that sits atop Queen Anne...</td>\n",
       "      <td>NaN</td>\n",
       "      <td>A charming apartment that sits atop Queen Anne...</td>\n",
       "      <td>none</td>\n",
       "      <td>NaN</td>\n",
       "      <td>...</td>\n",
       "      <td>NaN</td>\n",
       "      <td>f</td>\n",
       "      <td>NaN</td>\n",
       "      <td>WASHINGTON</td>\n",
       "      <td>f</td>\n",
       "      <td>flexible</td>\n",
       "      <td>f</td>\n",
       "      <td>f</td>\n",
       "      <td>1</td>\n",
       "      <td>NaN</td>\n",
       "    </tr>\n",
       "    <tr>\n",
       "      <th>4</th>\n",
       "      <td>278830</td>\n",
       "      <td>https://www.airbnb.com/rooms/278830</td>\n",
       "      <td>2.016010e+13</td>\n",
       "      <td>1/4/2016</td>\n",
       "      <td>Charming craftsman 3 bdm house</td>\n",
       "      <td>Cozy family craftman house in beautiful neighb...</td>\n",
       "      <td>Cozy family craftman house in beautiful neighb...</td>\n",
       "      <td>Cozy family craftman house in beautiful neighb...</td>\n",
       "      <td>none</td>\n",
       "      <td>We are in the beautiful neighborhood of Queen ...</td>\n",
       "      <td>...</td>\n",
       "      <td>9.0</td>\n",
       "      <td>f</td>\n",
       "      <td>NaN</td>\n",
       "      <td>WASHINGTON</td>\n",
       "      <td>f</td>\n",
       "      <td>strict</td>\n",
       "      <td>f</td>\n",
       "      <td>f</td>\n",
       "      <td>1</td>\n",
       "      <td>0.89</td>\n",
       "    </tr>\n",
       "  </tbody>\n",
       "</table>\n",
       "<p>5 rows × 92 columns</p>\n",
       "</div>"
      ],
      "text/plain": [
       "        id                           listing_url     scrape_id last_scraped  \\\n",
       "0   241032   https://www.airbnb.com/rooms/241032  2.016010e+13     1/4/2016   \n",
       "1   953595   https://www.airbnb.com/rooms/953595  2.016010e+13     1/4/2016   \n",
       "2  3308979  https://www.airbnb.com/rooms/3308979  2.016010e+13     1/4/2016   \n",
       "3  7421966  https://www.airbnb.com/rooms/7421966  2.016010e+13     1/4/2016   \n",
       "4   278830   https://www.airbnb.com/rooms/278830  2.016010e+13     1/4/2016   \n",
       "\n",
       "                                  name  \\\n",
       "0         Stylish Queen Anne Apartment   \n",
       "1   Bright & Airy Queen Anne Apartment   \n",
       "2  New Modern House-Amazing water view   \n",
       "3                   Queen Anne Chateau   \n",
       "4       Charming craftsman 3 bdm house   \n",
       "\n",
       "                                             summary  \\\n",
       "0                                                NaN   \n",
       "1  Chemically sensitive? We've removed the irrita...   \n",
       "2  New modern house built in 2013.  Spectacular s...   \n",
       "3  A charming apartment that sits atop Queen Anne...   \n",
       "4  Cozy family craftman house in beautiful neighb...   \n",
       "\n",
       "                                               space  \\\n",
       "0  Make your self at home in this charming one-be...   \n",
       "1  Beautiful, hypoallergenic apartment in an extr...   \n",
       "2  Our house is modern, light and fresh with a wa...   \n",
       "3                                                NaN   \n",
       "4  Cozy family craftman house in beautiful neighb...   \n",
       "\n",
       "                                         description experiences_offered  \\\n",
       "0  Make your self at home in this charming one-be...                none   \n",
       "1  Chemically sensitive? We've removed the irrita...                none   \n",
       "2  New modern house built in 2013.  Spectacular s...                none   \n",
       "3  A charming apartment that sits atop Queen Anne...                none   \n",
       "4  Cozy family craftman house in beautiful neighb...                none   \n",
       "\n",
       "                               neighborhood_overview  ... review_scores_value  \\\n",
       "0                                                NaN  ...                10.0   \n",
       "1  Queen Anne is a wonderful, truly functional vi...  ...                10.0   \n",
       "2  Upper Queen Anne is a charming neighborhood fu...  ...                10.0   \n",
       "3                                                NaN  ...                 NaN   \n",
       "4  We are in the beautiful neighborhood of Queen ...  ...                 9.0   \n",
       "\n",
       "  requires_license license jurisdiction_names instant_bookable  \\\n",
       "0                f     NaN         WASHINGTON                f   \n",
       "1                f     NaN         WASHINGTON                f   \n",
       "2                f     NaN         WASHINGTON                f   \n",
       "3                f     NaN         WASHINGTON                f   \n",
       "4                f     NaN         WASHINGTON                f   \n",
       "\n",
       "  cancellation_policy  require_guest_profile_picture  \\\n",
       "0            moderate                              f   \n",
       "1              strict                              t   \n",
       "2              strict                              f   \n",
       "3            flexible                              f   \n",
       "4              strict                              f   \n",
       "\n",
       "  require_guest_phone_verification calculated_host_listings_count  \\\n",
       "0                                f                              2   \n",
       "1                                t                              6   \n",
       "2                                f                              2   \n",
       "3                                f                              1   \n",
       "4                                f                              1   \n",
       "\n",
       "  reviews_per_month  \n",
       "0              4.07  \n",
       "1              1.48  \n",
       "2              1.15  \n",
       "3               NaN  \n",
       "4              0.89  \n",
       "\n",
       "[5 rows x 92 columns]"
      ]
     },
     "execution_count": 44,
     "metadata": {},
     "output_type": "execute_result"
    }
   ],
   "source": [
    "df=pd.read_csv(\"listings_seattle.csv\")\n",
    "df.head()"
   ]
  },
  {
   "cell_type": "markdown",
   "metadata": {},
   "source": [
    "Model evaluation function fits training data, predicts and computes score"
   ]
  },
  {
   "cell_type": "code",
   "execution_count": 45,
   "metadata": {},
   "outputs": [],
   "source": [
    "def model_eval(X, y, model):\n",
    "    '''\n",
    "    input: X is features data frame, y is respones, model\n",
    "    output: cross validation score, test score, predicted values\n",
    "    \n",
    "    '''\n",
    "    X_train, X_test, y_train, y_test = train_test_split(X, y, test_size=0.2, random_state=42)\n",
    "    model.fit(X_train, np.ravel(y_train))\n",
    "    y_pred = model.predict(X_test)\n",
    "    score = cross_val_score(model, X_train, y_train, scoring = 'r2', cv =3)\n",
    "    test_score = r2_score(y_test, y_pred)\n",
    "    return score, test_score, y_pred"
   ]
  },
  {
   "cell_type": "code",
   "execution_count": 46,
   "metadata": {},
   "outputs": [
    {
     "name": "stdout",
     "output_type": "stream",
     "text": [
      "3818\n",
      "92\n"
     ]
    }
   ],
   "source": [
    "num_rows = df.shape[0] #Provide the number of rows in the dataset\n",
    "num_cols = df.shape[1] #Provide the number of columns in the dataset\n",
    "print(num_rows)\n",
    "print(num_cols)"
   ]
  },
  {
   "cell_type": "markdown",
   "metadata": {},
   "source": [
    "Columns with nulls"
   ]
  },
  {
   "cell_type": "code",
   "execution_count": 47,
   "metadata": {},
   "outputs": [
    {
     "name": "stdout",
     "output_type": "stream",
     "text": [
      "{'beds', 'transit', 'cleaning_fee', 'host_thumbnail_url', 'review_scores_cleanliness', 'monthly_price', 'host_response_rate', 'notes', 'medium_url', 'host_since', 'zipcode', 'summary', 'reviews_per_month', 'review_scores_rating', 'xl_picture_url', 'review_scores_checkin', 'review_scores_communication', 'square_feet', 'property_type', 'review_scores_accuracy', 'host_neighbourhood', 'host_about', 'host_picture_url', 'review_scores_location', 'security_deposit', 'host_has_profile_pic', 'license', 'host_name', 'host_is_superhost', 'host_listings_count', 'host_location', 'weekly_price', 'host_identity_verified', 'thumbnail_url', 'host_response_time', 'host_total_listings_count', 'neighborhood_overview', 'bathrooms', 'host_acceptance_rate', 'last_review', 'bedrooms', 'space', 'first_review', 'review_scores_value', 'neighbourhood'}\n"
     ]
    }
   ],
   "source": [
    "nulls = set(df.columns[df.isnull().any()])#Provide a set of columns with missing values.\n",
    "print(nulls)"
   ]
  },
  {
   "cell_type": "markdown",
   "metadata": {},
   "source": [
    "Columns with many missing values"
   ]
  },
  {
   "cell_type": "code",
   "execution_count": 48,
   "metadata": {},
   "outputs": [
    {
     "name": "stdout",
     "output_type": "stream",
     "text": [
      "{'square_feet', 'license'}\n"
     ]
    }
   ],
   "source": [
    "most_missing_cols = set(df.columns[abs(df.isnull().sum())>0.7*len(df)])\n",
    "print(most_missing_cols)\n",
    "df=df.drop(most_missing_cols, axis=1)"
   ]
  },
  {
   "cell_type": "markdown",
   "metadata": {},
   "source": [
    "Check what is instant bookable "
   ]
  },
  {
   "cell_type": "code",
   "execution_count": 49,
   "metadata": {},
   "outputs": [
    {
     "data": {
      "image/png": "[encoded data removed]",
      "text/plain": [
       "<Figure size 432x288 with 1 Axes>"
      ]
     },
     "metadata": {
      "needs_background": "light"
     },
     "output_type": "display_data"
    }
   ],
   "source": [
    "#print(dfb.cancellation_policy.unique())\n",
    "dfc=df[['id', 'cancellation_policy']].groupby(['cancellation_policy']).count()\n",
    "(dfc/df.shape[0]).plot(kind=\"bar\");\n",
    "plt.title(\"instant bookable\");"
   ]
  },
  {
   "cell_type": "markdown",
   "metadata": {},
   "source": [
    "Columns related to price"
   ]
  },
  {
   "cell_type": "code",
   "execution_count": 50,
   "metadata": {},
   "outputs": [],
   "source": [
    "out=['price', 'weekly_price', 'monthly_price']"
   ]
  },
  {
   "cell_type": "code",
   "execution_count": 51,
   "metadata": {},
   "outputs": [
    {
     "name": "stdout",
     "output_type": "stream",
     "text": [
      "1517\n",
      "2009\n",
      "3818\n"
     ]
    }
   ],
   "source": [
    "dfm=df.loc[~df['monthly_price'].isnull()]\n",
    "print(len(dfm))\n",
    "dfw=df.loc[~df['weekly_price'].isnull()]\n",
    "print(len(dfw))\n",
    "print(len(df.loc[~df['price'].isnull()]))"
   ]
  },
  {
   "cell_type": "code",
   "execution_count": 52,
   "metadata": {},
   "outputs": [],
   "source": [
    "df['price']=df['price'].apply(lambda x: float(x[1:].replace(',','')))\n"
   ]
  },
  {
   "cell_type": "code",
   "execution_count": 53,
   "metadata": {},
   "outputs": [
    {
     "name": "stdout",
     "output_type": "stream",
     "text": [
      "2\n"
     ]
    }
   ],
   "source": [
    "#dfb['review_scores_value']=dfb['review_scores_value'].fillna(0.0)#dfb['review_scores_value'].mean()\n",
    "#print(dfb['review_scores_value'])\n",
    "#dfb[\"host_total_listings_count\"].fillna(dfb[\"host_total_listings_count\"].mean())\n",
    "print(len(df[df[\"host_total_listings_count\"].isnull()]))\n",
    "col_reviews=['review_scores_value', 'review_scores_rating', 'review_scores_accuracy', 'review_scores_cleanliness', 'review_scores_location']\n",
    "col_num = ['host_total_listings_count', 'bedrooms', 'bathrooms', 'beds']\n",
    "# Mean function\n",
    "fill_mean = lambda col: col.fillna(col.mean())\n",
    "# Fill the mean\n",
    "df[col_num] = df[col_num].apply(fill_mean, axis=0)\n",
    "\n",
    "for i in col_reviews:\n",
    "    df[i]=df[i].fillna(0.0)\n",
    "#for i in col_num:\n",
    " #   dfb[i]=dfb[i].fillna(dfb[i].mean())\n",
    "#print(dfb[col_num])"
   ]
  },
  {
   "cell_type": "code",
   "execution_count": 54,
   "metadata": {},
   "outputs": [
    {
     "name": "stdout",
     "output_type": "stream",
     "text": [
      "['host_listings_count', 'host_total_listings_count', 'latitude', 'longitude', 'bathrooms', 'bedrooms', 'beds', 'price', 'review_scores_rating', 'review_scores_accuracy', 'review_scores_cleanliness', 'review_scores_checkin', 'review_scores_communication', 'review_scores_location', 'review_scores_value', 'reviews_per_month']\n"
     ]
    }
   ],
   "source": [
    "colf=df.select_dtypes(['float', 'int']).columns\n",
    "colf =[i for i in colf if i not in ['scrape_id']]\n",
    "print(colf)\n",
    "#print(dfb.loc[dfb['monthly_price'].isnull(), ['monthly_price']])"
   ]
  },
  {
   "cell_type": "code",
   "execution_count": 55,
   "metadata": {
    "scrolled": true
   },
   "outputs": [
    {
     "name": "stdout",
     "output_type": "stream",
     "text": [
      "0\n"
     ]
    }
   ],
   "source": [
    "df[\"host_total_listings_count\"]=df[\"host_total_listings_count\"].fillna(df[\"host_total_listings_count\"].mean())\n",
    "print(len(df[df[\"host_total_listings_count\"].isnull()]))\n",
    "col_num_cor = ['host_total_listings_count', 'bedrooms', 'bathrooms', 'beds', 'square_feet', 'review_scores_value', 'review_scores_rating', 'review_scores_accuracy', 'review_scores_cleanliness', 'review_scores_location']\n"
   ]
  },
  {
   "cell_type": "code",
   "execution_count": 56,
   "metadata": {},
   "outputs": [
    {
     "name": "stdout",
     "output_type": "stream",
     "text": [
      "['host_listings_count', 'host_total_listings_count', 'latitude', 'longitude', 'bathrooms', 'bedrooms', 'beds', 'price', 'review_scores_rating', 'review_scores_accuracy', 'review_scores_cleanliness', 'review_scores_checkin', 'review_scores_communication', 'review_scores_location', 'review_scores_value', 'reviews_per_month']\n",
      "['host_total_listings_count', 'latitude', 'longitude', 'bathrooms', 'bedrooms', 'beds', 'review_scores_rating', 'review_scores_checkin', 'review_scores_location', 'review_scores_value', 'reviews_per_month']\n",
      "11\n",
      "all\n",
      "numerical\n",
      "[0.52583605 0.55736217 0.58527435]\n",
      "0.5861763666919348\n",
      "Plot feature importances…\n"
     ]
    },
    {
     "data": {
      "image/png": "[encoded data removed]",
      "text/plain": [
       "<Figure size 432x288 with 1 Axes>"
      ]
     },
     "metadata": {
      "needs_background": "light"
     },
     "output_type": "display_data"
    }
   ],
   "source": [
    "print(colf)\n",
    "#colf=np.append(colf,['description'])\n",
    "col = [i for i in colf if i not in ['review_scores_communication', 'review_scores_cleanliness',  'review_scores_accuracy','host_listings_count',\"price\"]]\n",
    "print(col)\n",
    "#df['beds']=df['beds'].astype('category')\n",
    "#['bedrooms']=df['bedrooms'].astype('category')\n",
    "X_num=df[col]\n",
    "#X=np.concatenate((X_num, X_cat),axis =0)\n",
    "Y=df[\"price\"]\n",
    "#model\n",
    "print(len(col))\n",
    "model = lgb.LGBMRegressor(boosting_type ='gbdt', learning_rate = 0.05, num_leaves=42, max_depth =5)#DecisionTreeClassifier(min_samples_split=4, max_depth=8,  class_weight={0: 1, 1: 4})#XGBClassifier(max_depth=5, learning_rate=0.01,  sample_weight=w_array)#DecisionTreeClassifier(max_depth=5,  class_weight={0: 1, 1: 3.5}) #ExtraTreesClassifier(n_estimators=100, max_depth=5)\n",
    "#model=XGBRegressor(max_depth=5, learning_rate=0.05)\n",
    "#cross_lval\n",
    "score, test_score, y_pred = model_eval(X_num, Y, model)\n",
    "print('all')\n",
    "print('numerical')\n",
    "print(score)\n",
    "print(test_score)\n",
    "print(\"Plot feature importances…\")\n",
    "ax = lgb.plot_importance(model, max_num_features=20)\n",
    "plt.show()"
   ]
  },
  {
   "cell_type": "code",
   "execution_count": 57,
   "metadata": {},
   "outputs": [],
   "source": [
    "df=df.drop(['experiences_offered'], axis=1)"
   ]
  },
  {
   "cell_type": "code",
   "execution_count": 58,
   "metadata": {
    "scrolled": true
   },
   "outputs": [
    {
     "name": "stdout",
     "output_type": "stream",
     "text": [
      "['host_location', 'host_response_time', 'host_response_rate', 'host_acceptance_rate', 'host_is_superhost', 'host_neighbourhood', 'host_verifications', 'street', 'neighbourhood', 'neighbourhood_cleansed', 'neighbourhood_group_cleansed', 'zipcode', 'smart_location', 'property_type', 'room_type', 'bed_type', 'has_availability', 'requires_license', 'jurisdiction_names', 'cancellation_policy']\n"
     ]
    }
   ],
   "source": [
    "#print(df['host_is_superhost'])\n",
    "cat_col = df.select_dtypes(include=['object']).columns\n",
    "df[cat_col] = df[cat_col].fillna('none')\n",
    "text=[ 'amenities', 'name', 'notes', 'description', 'neighborhood_overview', 'transit', 'host_about']\n",
    "exclude=['instant_bookable','host_identity_verified','is_location_exact','review_scores_cleanliness','require_guest_profile_picture', 'require_guest_phone_verification', 'security_deposit', 'calendar_last_scraped', 'calendar_updated', 'cleaning_fee','extra_people','host_since','first_review', 'last_review','market','listing_url', 'country', 'space', 'thumbnail_url', 'city', 'state', 'medium_url',  'host_has_profile_pic', 'host_thumbnail_url', 'country_code','host_url', 'host_name', 'description', 'last_scraped', 'picture_url', 'xl_picture_url', 'summary', 'host_picture_url']\n",
    "cat_col = [i for i in cat_col if i not in out+exclude+text]\n",
    "print(cat_col)\n",
    "le  = LabelEncoder()\n",
    "for i in cat_col:\n",
    "    df[i]=le.fit_transform(df[i].astype('category'))\n",
    "X_cat = df[cat_col]"
   ]
  },
  {
   "cell_type": "code",
   "execution_count": 59,
   "metadata": {},
   "outputs": [
    {
     "name": "stdout",
     "output_type": "stream",
     "text": [
      "['host_listings_count', 'host_total_listings_count', 'latitude', 'longitude', 'bathrooms', 'bedrooms', 'beds', 'price', 'review_scores_rating', 'review_scores_accuracy', 'review_scores_cleanliness', 'review_scores_checkin', 'review_scores_communication', 'review_scores_location', 'review_scores_value', 'reviews_per_month']\n",
      "['host_total_listings_count', 'latitude', 'longitude', 'bathrooms', 'bedrooms', 'beds', 'review_scores_rating', 'review_scores_checkin', 'review_scores_location', 'review_scores_value', 'reviews_per_month']\n",
      "11\n",
      "all\n",
      "numerical\n",
      "[0.56314649 0.56871998 0.61868191]\n",
      "0.6251409545616655\n",
      "Plot feature importances…\n"
     ]
    },
    {
     "data": {
      "image/png": "[encoded data removed]",
      "text/plain": [
       "<Figure size 432x288 with 1 Axes>"
      ]
     },
     "metadata": {
      "needs_background": "light"
     },
     "output_type": "display_data"
    }
   ],
   "source": [
    "print(colf)\n",
    "print(col)\n",
    "Y=df[\"price\"]\n",
    "#model\n",
    "print(len(col))\n",
    "#model\n",
    "X=df[col+cat_col]\n",
    "model = lgb.LGBMRegressor(boosting_type ='gbdt', learning_rate = 0.1, num_leaves=42, max_depth =7)#DecisionTreeClassifier(min_samples_split=4, max_depth=8,  class_weight={0: 1, 1: 4})#\n",
    "#model=XGBRegressor(max_depth=5, learning_rate=0.05)#DecisionTreeClassifier(max_depth=5,  class_weight={0: 1, 1: 3.5}) #ExtraTreesClassifier(n_estimators=100, max_depth=5)\n",
    "#cross_val\n",
    "score, test_score, y_pred = model_eval(X, Y, model)\n",
    "print('all')\n",
    "print('numerical')\n",
    "print(score)\n",
    "print(test_score)\n",
    "\n",
    "print(\"Plot feature importances…\")\n",
    "ax = lgb.plot_importance(model, max_num_features=31)\n",
    "plt.show()"
   ]
  },
  {
   "cell_type": "code",
   "execution_count": 60,
   "metadata": {},
   "outputs": [],
   "source": [
    "count_descp = TfidfVectorizer(max_features = 90, \n",
    "                              ngram_range = (1,3),\n",
    "                              stop_words = \"english\")\n",
    "count_am = TfidfVectorizer(max_features = 50, \n",
    "                              ngram_range = (1,3),\n",
    "                              stop_words = \"english\")\n",
    "count_transit = TfidfVectorizer(max_features = 50, \n",
    "                              ngram_range = (1,3),\n",
    "                              stop_words = \"english\")\n",
    "X_desc = count_descp.fit_transform(df[\"description\"])\n",
    "X_name = count_descp.fit_transform(df[\"name\"])\n",
    "X_transit = count_transit.fit_transform(df[\"transit\"])\n",
    "X_am = count_am.fit_transform(df['amenities'])"
   ]
  },
  {
   "cell_type": "code",
   "execution_count": 61,
   "metadata": {
    "scrolled": false
   },
   "outputs": [
    {
     "name": "stdout",
     "output_type": "stream",
     "text": [
      "['host_listings_count', 'host_total_listings_count', 'latitude', 'longitude', 'bathrooms', 'bedrooms', 'beds', 'price', 'review_scores_rating', 'review_scores_accuracy', 'review_scores_cleanliness', 'review_scores_checkin', 'review_scores_communication', 'review_scores_location', 'review_scores_value', 'reviews_per_month']\n",
      "['host_total_listings_count', 'latitude', 'longitude', 'bathrooms', 'bedrooms', 'beds', 'review_scores_rating', 'review_scores_checkin', 'review_scores_location', 'review_scores_value', 'reviews_per_month']\n",
      "all\n",
      "numerical\n",
      "[0.23313017 0.28111158 0.27143095]\n",
      "0.33986990974254305\n",
      "0.6251409545616655\n",
      "Plot feature importances…\n"
     ]
    },
    {
     "data": {
      "image/png": "[encoded data removed]",
      "text/plain": [
       "<Figure size 432x288 with 1 Axes>"
      ]
     },
     "metadata": {
      "needs_background": "light"
     },
     "output_type": "display_data"
    }
   ],
   "source": [
    "print(colf)\n",
    "#colf=np.append(colf,['description'])\n",
    "#col = [i for i in colf if i != \"price\"]\n",
    "print(col)\n",
    "X_desc\n",
    "#X_num=df[col]\n",
    "#X_cat=df[cat_col].astype('category')\n",
    "#X=np.concatenate((X_num, X_desc),axis =1)\n",
    "Y=df[\"price\"]\n",
    "#model\n",
    "X1=hstack((              X_am,\n",
    "                         X_transit,      \n",
    "                         X_name,\n",
    "                         X_desc)).tocsr()\n",
    "model1 = lgb.LGBMRegressor(boosting_type ='gbdt', learning_rate = 0.2, num_leaves=43, max_depth = 9)#DecisionTreeClassifier(min_samples_split=4, max_depth=8,  class_weight={0: 1, 1: 4})#\n",
    "#model=XGBRegressor(max_depth=6, learning_rate=0.05, early_stopping_rounds=20)#DecisionTreeClassifier(max_depth=5,  class_weight={0: 1, 1: 3.5}) #ExtraTreesClassifier(n_estimators=100, max_depth=5)\n",
    "#score, test_score, ypred = model_eval(X, Y, model1)\n",
    "score1, test_score1, ypred1 = model_eval(X1, Y, model1)\n",
    "print('all')\n",
    "print('numerical')\n",
    "#print(score)\n",
    "print(score1)\n",
    "print(test_score1)\n",
    "y_pred2=0.2*ypred1+0.8*y_pred\n",
    "#y_pred=0.2*model1.predict(X1)+0.8*model.predict(X)\n",
    "#test_score = r2_score(y_test, y_pred2)\n",
    "print(test_score)\n",
    "print(\"Plot feature importances…\")\n",
    "ax = lgb.plot_importance(model1, max_num_features=15)\n",
    "plt.show()"
   ]
  },
  {
   "cell_type": "code",
   "execution_count": null,
   "metadata": {},
   "outputs": [],
   "source": []
  }
 ],
 "metadata": {
  "kernelspec": {
   "display_name": "Python 3",
   "language": "python",
   "name": "python3"
  },
  "language_info": {
   "codemirror_mode": {
    "name": "ipython",
    "version": 3
   },
   "file_extension": ".py",
   "mimetype": "text/x-python",
   "name": "python",
   "nbconvert_exporter": "python",
   "pygments_lexer": "ipython3",
   "version": "3.7.0"
  }
 },
 "nbformat": 4,
 "nbformat_minor": 2
}
